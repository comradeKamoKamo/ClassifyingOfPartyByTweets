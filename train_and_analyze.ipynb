{
 "cells": [
  {
   "cell_type": "markdown",
   "metadata": {},
   "source": [
    "## Train"
   ]
  },
  {
   "cell_type": "code",
   "execution_count": 2,
   "metadata": {},
   "outputs": [
    {
     "name": "stdout",
     "output_type": "stream",
     "text": [
      "OK! 1\n",
      "OK! 2\n",
      "OK! 3\n",
      "OK! 4\n",
      "OK! 5\n",
      "OK! 6\n",
      "OK! 7\n",
      "OK! 8\n",
      "OK! 9\n",
      "OK! 10\n"
     ]
    }
   ],
   "source": [
    "import subprocess\n",
    "c = 10\n",
    "for i in range(1,c+1):\n",
    "    !python clean.py\n",
    "    !python data/split_train_and_test.py\n",
    "    !python data/create_empty_db.py\n",
    "    !python data/insert_values_to_db.py\n",
    "    !python data/insert_standard_to_db.py\n",
    "    !python data/data_to_npz.py\n",
    "    subprocess.call(\"python train.py \" + str(i))\n",
    "    print(\"OK!\",i)"
   ]
  },
  {
   "cell_type": "code",
   "execution_count": 25,
   "metadata": {},
   "outputs": [
    {
     "name": "stdout",
     "output_type": "stream",
     "text": [
      "['1078838064707825665', '1069529183540338688', '1069529151650942977', '1063418818830131200', '1063075230149574656', '1062725984024023041', '1058564392428593153', '1053429629359276033', '1053429548740538370', '1051998935630241792', '1051288278765264896', '1050976415443648512', '1048759497861165056', '1047780576218865664', '1047780520606584833', '1047090923123834881', '1046746960483348480', '1043769971489136641', '1043052220210499584', '1043052039494725632', '1043051866949447680', '1043051761693470722', '1040078397085384705', '1039330708295053312', '1039328560903643137', '1039328312986808320', '1039004992957345793', '1038731716523741185', '1038301801533960193', '1038037816519811072', '1038024530189377537', '1038024327088590849', '1037939331669716992', '1037656784675061760', '1037656614608691200', '1037656168200429568', '1037131496237060096', '1037131455434973184', '1037131313495470080', '1036865242318295040', '1036865189553950720', '1036550532221947904', '1035759888037642241', '1035759855355670528', '1027080268270555141', '1015814120812081153', '1015419512500338688', '1012640130639659008', '1012367080627163136', '1011508030561644545', '1009741311862177793', '1009667103735943171', '1009299460176789504', '1009011311391342592', '1008549033328066561', '991557352464629760', '986747487573561344', '976656669290590208', '972735869261037568', '952831706863566848', '952551028922069000', '947648308591214592', '945514401301274624', '943430519152189441', '936455558218911744', '929943386915606528', '928551463390887936', '927745844572405760', '927346504309792768', '927346235421241344', '927020811969445893', '925726263716724736', '921745765067669505', '921350545230544896', '920624000211943424', '920292054663434245', '919153683463413760', '918822069592141825', '918094721666318336', '917711860945739776', '916151608869662720', '915179873454383104', '914110200142979077', '835037199636652032', '815417421754298368', '751790351820525569', '746895582610915328', '719116470014218240', '718346315420319745', '716149700924026880', '715787987964063745', '711546961904578561', '710703898764292096', '710703892879683584', '708299857769816064', '706021029940867072', '705740388657541121', '702446522152181760', '701609400717279232', '701390477392683008', '701353645032370176', '690907906644926464', '689816581916917760', '687987004378722304', '687655303584722944', '681441855062425602', '677388305378369536', '676060032224460800', '675836750598565888', '675533122226667521', '674181807051378688', '621695415906275328', '620524492767391744', '618753183070883841', '618697461960314880', '618366762891874304', '612977855861927936', '612858876950548481', '609631716265689089', '607542224352509953', '607527254952833025', '607177633319624704', '601689465317400576', '600602157218439168', '594387276303466496', '594044609753296897', '594035783494807552', '594035600061173760', '592895968619683840', '592844598013202433', '592537271364124672', '592537004631564288', '592528000391872512', '591469925887135744', '590911180807344128', '590855909464616960', '588697266212380672', '583101963484557312', '579915365653684224', '576750544137494528', '576750002921295873', '574934461139152896']\n"
     ]
    }
   ],
   "source": [
    "!python word2vec/transform_split.py"
   ]
  },
  {
   "cell_type": "code",
   "execution_count": 10,
   "metadata": {},
   "outputs": [
    {
     "data": {
      "text/plain": [
       "0"
      ]
     },
     "execution_count": 10,
     "metadata": {},
     "output_type": "execute_result"
    }
   ],
   "source": [
    "subprocess.call(\"python train.py \" + \"11\")"
   ]
  },
  {
   "cell_type": "markdown",
   "metadata": {},
   "source": [
    "## Analyze"
   ]
  },
  {
   "cell_type": "code",
   "execution_count": 4,
   "metadata": {},
   "outputs": [],
   "source": [
    "import csv\n",
    "def get_parties():\n",
    "    parties = []\n",
    "    with open(\"DataCollecting/Politicians.csv\",\"r\") as f:\n",
    "        data = csv.DictReader(f)\n",
    "        for row in data:\n",
    "            parties.append(row[\"party_name\"])\n",
    "    return parties"
   ]
  },
  {
   "cell_type": "code",
   "execution_count": 27,
   "metadata": {},
   "outputs": [
    {
     "name": "stdout",
     "output_type": "stream",
     "text": [
      "Average Accuracy: 0.7963198151821608\n"
     ]
    },
    {
     "data": {
      "image/png": "[encoded data removed]",
      "text/plain": [
       "<Figure size 432x288 with 2 Axes>"
      ]
     },
     "metadata": {
      "needs_background": "light"
     },
     "output_type": "display_data"
    }
   ],
   "source": [
    "%matplotlib inline\n",
    "\n",
    "import numpy as np\n",
    "import matplotlib.pyplot as plt\n",
    "\n",
    "\n",
    "politicians = get_parties()\n",
    "\n",
    "i = 10\n",
    "\n",
    "accuracies = []\n",
    "with open(\"result/accuracy.txt\",\"r\") as f:\n",
    "    for l in f.readlines():\n",
    "        accuracies.append(float(l))\n",
    "print(\"Average Accuracy:\",np.mean(accuracies))\n",
    "        \n",
    "\n",
    "cm = []\n",
    "for i in range(1, i+1):\n",
    "    cm.append(np.load(\"result/cm{0}.npy\".format(i)))\n",
    "cm = np.asarray(cm)\n",
    "cm_a = np.mean(cm,axis=0)\n",
    "\n",
    "fig = plt.figure()\n",
    "ax = plt.subplot()\n",
    "cax = ax.matshow(cm_a, interpolation=\"nearest\", cmap=\"autumn_r\",vmin=0,vmax=1)\n",
    "fig.colorbar(cax)\n",
    "ax.set_xticklabels([\"\"]+politicians,fontsize=6)\n",
    "ax.set_yticklabels([\"\"]+politicians,fontsize=6)\n",
    "plt.title(\"Normalized Confusion Matrix\")\n",
    "plt.xlabel(\"Predicted class\")\n",
    "plt.ylabel(\"True class\")\n",
    "plt.show()\n",
    "\n",
    "with open(\"result/cm.csv\",\"w\") as f:\n",
    "    writer = csv.writer(f,delimiter=\",\")\n",
    "    writer.writerows(cm_a)"
   ]
  }
 ],
 "metadata": {
  "kernelspec": {
   "display_name": "Python 3",
   "language": "python",
   "name": "python3"
  },
  "language_info": {
   "codemirror_mode": {
    "name": "ipython",
    "version": 3
   },
   "file_extension": ".py",
   "mimetype": "text/x-python",
   "name": "python",
   "nbconvert_exporter": "python",
   "pygments_lexer": "ipython3",
   "version": "3.5.4"
  }
 },
 "nbformat": 4,
 "nbformat_minor": 2
}
