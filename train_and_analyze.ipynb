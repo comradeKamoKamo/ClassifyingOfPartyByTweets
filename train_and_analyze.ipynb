{
 "cells": [
  {
   "cell_type": "markdown",
   "metadata": {},
   "source": [
    "## Train"
   ]
  },
  {
   "cell_type": "code",
   "execution_count": 2,
   "metadata": {},
   "outputs": [
    {
     "name": "stdout",
     "output_type": "stream",
     "text": [
      "OK! 1\n",
      "OK! 2\n",
      "OK! 3\n",
      "OK! 4\n",
      "OK! 5\n",
      "OK! 6\n",
      "OK! 7\n",
      "OK! 8\n",
      "OK! 9\n",
      "OK! 10\n"
     ]
    }
   ],
   "source": [
    "import subprocess\n",
    "c = 10\n",
    "for i in range(1,c+1):\n",
    "    !python clean.py\n",
    "    !python data/split_train_and_test.py\n",
    "    !python data/create_empty_db.py\n",
    "    !python data/insert_values_to_db.py\n",
    "    !python data/insert_standard_to_db.py\n",
    "    !python data/data_to_npz.py\n",
    "    subprocess.call(\"python train.py \" + str(i))\n",
    "    print(\"OK!\",i)"
   ]
  },
  {
   "cell_type": "code",
   "execution_count": 3,
   "metadata": {},
   "outputs": [],
   "source": [
    "!python clean.py"
   ]
  },
  {
   "cell_type": "code",
   "execution_count": 1,
   "metadata": {},
   "outputs": [],
   "source": [
    "!python DataCollecting/data_tokenize.py"
   ]
  },
  {
   "cell_type": "markdown",
   "metadata": {},
   "source": [
    "## Analyze"
   ]
  },
  {
   "cell_type": "code",
   "execution_count": 4,
   "metadata": {},
   "outputs": [],
   "source": [
    "import csv\n",
    "def get_parties():\n",
    "    parties = []\n",
    "    with open(\"DataCollecting/Politicians.csv\",\"r\") as f:\n",
    "        data = csv.DictReader(f)\n",
    "        for row in data:\n",
    "            parties.append(row[\"party_name\"])\n",
    "    return parties"
   ]
  },
  {
   "cell_type": "code",
   "execution_count": 5,
   "metadata": {},
   "outputs": [
    {
     "name": "stdout",
     "output_type": "stream",
     "text": [
      "Average Accuracy: 0.7785511363636364\n"
     ]
    },
    {
     "data": {
      "image/png": "[encoded data removed]",
      "text/plain": [
       "<Figure size 432x288 with 2 Axes>"
      ]
     },
     "metadata": {
      "needs_background": "light"
     },
     "output_type": "display_data"
    }
   ],
   "source": [
    "%matplotlib inline\n",
    "\n",
    "import numpy as np\n",
    "import matplotlib.pyplot as plt\n",
    "\n",
    "\n",
    "politicians = get_parties()\n",
    "\n",
    "i = 10\n",
    "\n",
    "accuracies = []\n",
    "with open(\"result/accuracy.txt\",\"r\") as f:\n",
    "    for l in f.readlines():\n",
    "        accuracies.append(float(l))\n",
    "print(\"Average Accuracy:\",np.mean(accuracies))\n",
    "        \n",
    "\n",
    "cm = []\n",
    "for i in range(1, i+1):\n",
    "    cm.append(np.load(\"result/cm{0}.npy\".format(i)))\n",
    "cm = np.asarray(cm)\n",
    "cm_a = np.mean(cm,axis=0)\n",
    "\n",
    "fig = plt.figure()\n",
    "ax = plt.subplot()\n",
    "cax = ax.matshow(cm_a, interpolation=\"nearest\", cmap=\"autumn_r\")\n",
    "fig.colorbar(cax)\n",
    "ax.set_xticklabels([\"\"]+politicians,fontsize=6)\n",
    "ax.set_yticklabels([\"\"]+politicians,fontsize=6)\n",
    "plt.title(\"Normalized Confusion Matrix\")\n",
    "plt.xlabel(\"Predicted class\")\n",
    "plt.ylabel(\"True class\")\n",
    "plt.show()\n",
    "\n",
    "with open(\"result/cm.csv\",\"w\") as f:\n",
    "    writer = csv.writer(f,delimiter=\",\")\n",
    "    writer.writerows(cm_a)"
   ]
  }
 ],
 "metadata": {
  "kernelspec": {
   "display_name": "Python 3",
   "language": "python",
   "name": "python3"
  },
  "language_info": {
   "codemirror_mode": {
    "name": "ipython",
    "version": 3
   },
   "file_extension": ".py",
   "mimetype": "text/x-python",
   "name": "python",
   "nbconvert_exporter": "python",
   "pygments_lexer": "ipython3",
   "version": "3.5.4"
  }
 },
 "nbformat": 4,
 "nbformat_minor": 2
}
