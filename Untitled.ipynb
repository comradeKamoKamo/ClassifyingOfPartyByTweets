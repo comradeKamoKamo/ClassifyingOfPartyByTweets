{
 "cells": [
  {
   "cell_type": "code",
   "execution_count": 3,
   "metadata": {},
   "outputs": [
    {
     "name": "stderr",
     "output_type": "stream",
     "text": [
      "warning: LF will be replaced by CRLF in Untitled.ipynb.\n",
      "The file will have its original line endings in your working directory.\n",
      "warning: LF will be replaced by CRLF in result/accuracy.txt.\n",
      "The file will have its original line endings in your working directory.\n",
      "warning: LF will be replaced by CRLF in train.py.\n",
      "The file will have its original line endings in your working directory.\n"
     ]
    },
    {
     "name": "stdout",
     "output_type": "stream",
     "text": [
      "[word2vec bf81240a] 0.4 r\n",
      " 17 files changed, 41 insertions(+), 32 deletions(-)\n",
      " rewrite Data/nouns.db (90%)\n",
      " rewrite Data/verbs.db (96%)\n",
      " rewrite model.json (100%)\n"
     ]
    },
    {
     "name": "stderr",
     "output_type": "stream",
     "text": [
      "To https://github.com/comradeKamoKamo/ClassifyingOfPartyByTweets.git\n",
      "   0d8563f0..bf81240a  word2vec -> word2vec\n"
     ]
    }
   ],
   "source": [
    "!git add -A\n",
    "!git commit -m \"0.4 r\"\n",
    "!git push"
   ]
  }
 ],
 "metadata": {
  "kernelspec": {
   "display_name": "Python 3",
   "language": "python",
   "name": "python3"
  },
  "language_info": {
   "codemirror_mode": {
    "name": "ipython",
    "version": 3
   },
   "file_extension": ".py",
   "mimetype": "text/x-python",
   "name": "python",
   "nbconvert_exporter": "python",
   "pygments_lexer": "ipython3",
   "version": "3.5.4"
  }
 },
 "nbformat": 4,
 "nbformat_minor": 2
}
